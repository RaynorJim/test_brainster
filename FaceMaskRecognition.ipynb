{
  "nbformat": 4,
  "nbformat_minor": 0,
  "metadata": {
    "colab": {
      "name": "FaceMaskRecognition.ipynb",
      "provenance": [],
      "collapsed_sections": []
    },
    "kernelspec": {
      "display_name": "Python 3",
      "language": "python",
      "name": "python3"
    },
    "language_info": {
      "codemirror_mode": {
        "name": "ipython",
        "version": 3
      },
      "file_extension": ".py",
      "mimetype": "text/x-python",
      "name": "python",
      "nbconvert_exporter": "python",
      "pygments_lexer": "ipython3",
      "version": "3.6.10"
    }
  },
  "cells": [
    {
      "cell_type": "markdown",
      "metadata": {
        "id": "poN0EiobyulJ"
      },
      "source": [
        "# Face mask classification\n",
        "\n",
        "## Project Rationale\n",
        "\n",
        "Wearing a mask is considered to be an important tool in slowing and preventing the spread of COVID-19, especially if used universally within communities. There is increasing evidence that masks/cloth coverings help prevent people who have COVID-19 from spreading the virus to others. The advice and recommendations from international authorities and many governments vary from voluntary to compulsory wearing them in public places. This means that the prolonged pandemic imposes a new way of everyday life and learning new habits. Monitoring compliance at public places is an expensive operation. Thus, we believe that by building this project that can be further deployed for real-time masked-face recognition in a surveillance system will help in tracking the behavior of mask-wearing in public places, such as shopping malls, supermarkets, institutions, etc. We strongly believe that every individual should strive to contribute in his/hers own capacity in order to suppress the spread of Covid-19 and help in putting an end to the pandemic.\n",
        "\n",
        "\n",
        "\n",
        "## Project goal\n",
        "\n",
        "The goal of your project is to create a robust classifier, to collect data and prepare custom dataset.  \n",
        "You will build a model that will recognize 2 types of pictures:\n",
        "\n",
        "* With mask\n",
        "\n",
        "   <img src = \"https://image.shutterstock.com/image-photo/young-man-wearing-black-face-260nw-1696092880.jpg\" width = \"25%\" height=\"25%\">\n",
        "\n",
        "* Without mask \n",
        "\n",
        "  <img src = \"https://cdn.cnn.com/cnnnext/dam/assets/210221095146-fauci-bash-sotu-split-exlarge-169.jpg\" width = \"25%\" height=\"25%\">\n",
        " \n",
        "## Project timeline    \n",
        "This project consists of the following activities :\n",
        "\n",
        "\n",
        "1. Phase 1 : Dataset and team planning\n",
        "    * Team Planning\n",
        "    * Full git project Integration\n",
        "    * General Project Research\n",
        "    * Dataset Collection\n",
        "    * Dataset Preparation\n",
        "2. Phase 2 : Training\n",
        "    * Research about neural networks\n",
        "    * Compose and train neural network architectures\n",
        "    * Compare different pre-trained architectures\n",
        "    * Generate syntethic data if needed\n",
        "    * Fine tunning of your model\n",
        "3. Phase 3 : Deployment\n",
        "    * Analysis and benchmark Precision/Recall\n",
        "    * Model Deploy (Git)\n",
        "    * Write git Readme.md file\n",
        "    * Receive Feedback from PM\n",
        "\n",
        "Gantt chart: https://docs.google.com/spreadsheets/d/1AypjtqvJ_pSKUlDd8LyE5RHVOY4cgx2l/edit#gid=1105033858\n"
      ]
    },
    {
      "cell_type": "markdown",
      "source": [
        ""
      ],
      "metadata": {
        "id": "4X84UcqF4pqh"
      }
    }
  ]
}